{
 "cells": [
  {
   "cell_type": "code",
   "execution_count": 3,
   "id": "43b12032-f0a2-4d8e-ab70-78c7c4d4f64c",
   "metadata": {},
   "outputs": [
    {
     "name": "stdin",
     "output_type": "stream",
     "text": [
      "enter your name : Aryan Rajput\n",
      "enter your post: Data Analyst\n",
      "enter your salary: 25000\n",
      "enter your email: aryanrajput5752@gmail.com\n"
     ]
    }
   ],
   "source": [
    "name = input(\"enter your name :\")\n",
    "desigination = input(\"enter your post:\")\n",
    "salary = int(input(\"enter your salary:\"))\n",
    "email = input(\"enter your email:\")\n",
    "\n",
    "offer_letter = f\"\"\"A/52 Sector  16 Noida UP \n",
    "\n",
    "Dear {name},\n",
    "\n",
    "Subject: Offer of Employment for the position of {desigination}\n",
    "\n",
    "We are delighted to extend this formal offer of employment to you for the position of {desigination} at our organization. Based on your qualifications and the skills you demonstrated during the recruitment process, we are confident that you will be a valuable addition to our team.\n",
    "\n",
    "As discussed, your expected date of joining is 01-01-2025. Your total compensation package will be {salary}, which includes all salary components as per the company’s policy. Further details regarding your compensation will be provided in your employment contract.\n",
    "\n",
    "We expect you to bring your best efforts to help the company achieve its goals, and we are committed to supporting your professional growth during your time with us.\n",
    "\n",
    "Please confirm your acceptance of this offer by sending an email to {email} at your earliest convenience. Should you have any queries regarding this offer, feel free to reach out to us.\n",
    "\n",
    "We look forward to having you onboard and are excited about the great things we can accomplish together.\n",
    "\n",
    "Sincerely,\n",
    "\n",
    "Sunil Kumar\n",
    "HR Manager\"\"\"\n"
   ]
  },
  {
   "cell_type": "code",
   "execution_count": null,
   "id": "0b9b319b-fc39-4e61-b714-354563432660",
   "metadata": {},
   "outputs": [],
   "source": []
  }
 ],
 "metadata": {
  "kernelspec": {
   "display_name": "Python 3 (ipykernel)",
   "language": "python",
   "name": "python3"
  },
  "language_info": {
   "codemirror_mode": {
    "name": "ipython",
    "version": 3
   },
   "file_extension": ".py",
   "mimetype": "text/x-python",
   "name": "python",
   "nbconvert_exporter": "python",
   "pygments_lexer": "ipython3",
   "version": "3.12.7"
  }
 },
 "nbformat": 4,
 "nbformat_minor": 5
}
